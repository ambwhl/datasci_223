{
 "cells": [
  {
   "cell_type": "markdown",
   "metadata": {},
   "source": [
    "# Exercise: Analyzing Chinook Database\n",
    "\n",
    "Preparation I've done:\n",
    " - Retrieve the dataset and load it\n",
    " - Load the %sql extension and point it at the database\n",
    " - Display the tables and an example query\n",
    "\n",
    "Additional steps you might take:\n",
    " - Add libraries for visualization (matplotlib, seaborn, plotly)\n",
    " - Add libraries for statistics (numpy)\n",
    " - Explore the dataset using SQL and/or pandas\n",
    "\n",
    "----\n",
    "\n",
    "1. Retrieve a list of all the tracks in the database, displaying only the track name and the name of the album it belongs to. Limit the result to the first 5 rows.\n",
    "   > Operations: `SELECT`\n",
    "2. Find the total number of customers from each country. Display the country name and the corresponding count. Order the results by the count in descending order.\n",
    "   > Operations: `SELECT`, `COUNT`, `GROUP BY`, `ORDER BY`\n",
    "3. Identify the top 5 genres with the highest number of tracks. Display the genre name along with the total number of tracks for each genre.\n",
    "   > Operations: `SELECT`, `COUNT`, `GROUP BY`, `ORDER BY`\n",
    "4. Determine the average invoice total for each customer, considering both the album and individual track purchases. Display the customer's first and last name along with the average invoice total. Order the results by the average invoice total in descending order.\n",
    "   > Operations: `SELECT`, `AVG`, `JOIN`, `GROUP BY`, `ORDER BY`\n",
    "5. Identify the customer who spent the most on music purchases. Display the customer's first and last name, along with the total amount spent.\n",
    "   > Operations: `SELECT`, `SUM`, `JOIN`, `GROUP BY`, `ORDER BY`, `LIMIT`"
   ]
  },
  {
   "cell_type": "code",
   "execution_count": 1,
   "metadata": {},
   "outputs": [
    {
     "name": "stdout",
     "output_type": "stream",
     "text": [
      "Requirement already satisfied: pandas in /Library/Frameworks/Python.framework/Versions/3.11/lib/python3.11/site-packages (2.1.2)\n",
      "Requirement already satisfied: sqlalchemy in /Library/Frameworks/Python.framework/Versions/3.11/lib/python3.11/site-packages (2.0.25)\n",
      "Requirement already satisfied: ipython-sql in /Library/Frameworks/Python.framework/Versions/3.11/lib/python3.11/site-packages (0.5.0)\n",
      "Requirement already satisfied: matplotlib in /Library/Frameworks/Python.framework/Versions/3.11/lib/python3.11/site-packages (3.8.2)\n",
      "Requirement already satisfied: seaborn in /Library/Frameworks/Python.framework/Versions/3.11/lib/python3.11/site-packages (0.13.2)\n",
      "Requirement already satisfied: numpy<2,>=1.23.2 in /Library/Frameworks/Python.framework/Versions/3.11/lib/python3.11/site-packages (from pandas) (1.26.1)\n",
      "Requirement already satisfied: python-dateutil>=2.8.2 in /Library/Frameworks/Python.framework/Versions/3.11/lib/python3.11/site-packages (from pandas) (2.8.2)\n",
      "Requirement already satisfied: pytz>=2020.1 in /Library/Frameworks/Python.framework/Versions/3.11/lib/python3.11/site-packages (from pandas) (2023.3.post1)\n",
      "Requirement already satisfied: tzdata>=2022.1 in /Library/Frameworks/Python.framework/Versions/3.11/lib/python3.11/site-packages (from pandas) (2023.3)\n",
      "Requirement already satisfied: typing-extensions>=4.6.0 in /Library/Frameworks/Python.framework/Versions/3.11/lib/python3.11/site-packages (from sqlalchemy) (4.9.0)\n",
      "Requirement already satisfied: greenlet!=0.4.17 in /Library/Frameworks/Python.framework/Versions/3.11/lib/python3.11/site-packages (from sqlalchemy) (3.0.3)\n",
      "Requirement already satisfied: prettytable in /Library/Frameworks/Python.framework/Versions/3.11/lib/python3.11/site-packages (from ipython-sql) (3.9.0)\n",
      "Requirement already satisfied: ipython in /Library/Frameworks/Python.framework/Versions/3.11/lib/python3.11/site-packages (from ipython-sql) (8.17.2)\n",
      "Requirement already satisfied: sqlparse in /Library/Frameworks/Python.framework/Versions/3.11/lib/python3.11/site-packages (from ipython-sql) (0.4.4)\n",
      "Requirement already satisfied: six in /Library/Frameworks/Python.framework/Versions/3.11/lib/python3.11/site-packages (from ipython-sql) (1.16.0)\n",
      "Requirement already satisfied: ipython-genutils in /Library/Frameworks/Python.framework/Versions/3.11/lib/python3.11/site-packages (from ipython-sql) (0.2.0)\n",
      "Requirement already satisfied: contourpy>=1.0.1 in /Library/Frameworks/Python.framework/Versions/3.11/lib/python3.11/site-packages (from matplotlib) (1.2.0)\n",
      "Requirement already satisfied: cycler>=0.10 in /Library/Frameworks/Python.framework/Versions/3.11/lib/python3.11/site-packages (from matplotlib) (0.12.1)\n",
      "Requirement already satisfied: fonttools>=4.22.0 in /Library/Frameworks/Python.framework/Versions/3.11/lib/python3.11/site-packages (from matplotlib) (4.47.2)\n",
      "Requirement already satisfied: kiwisolver>=1.3.1 in /Library/Frameworks/Python.framework/Versions/3.11/lib/python3.11/site-packages (from matplotlib) (1.4.5)\n",
      "Requirement already satisfied: packaging>=20.0 in /Library/Frameworks/Python.framework/Versions/3.11/lib/python3.11/site-packages (from matplotlib) (23.2)\n",
      "Requirement already satisfied: pillow>=8 in /Library/Frameworks/Python.framework/Versions/3.11/lib/python3.11/site-packages (from matplotlib) (10.2.0)\n",
      "Requirement already satisfied: pyparsing>=2.3.1 in /Library/Frameworks/Python.framework/Versions/3.11/lib/python3.11/site-packages (from matplotlib) (3.1.1)\n",
      "Requirement already satisfied: decorator in /Library/Frameworks/Python.framework/Versions/3.11/lib/python3.11/site-packages (from ipython->ipython-sql) (5.1.1)\n",
      "Requirement already satisfied: jedi>=0.16 in /Library/Frameworks/Python.framework/Versions/3.11/lib/python3.11/site-packages (from ipython->ipython-sql) (0.19.1)\n",
      "Requirement already satisfied: matplotlib-inline in /Library/Frameworks/Python.framework/Versions/3.11/lib/python3.11/site-packages (from ipython->ipython-sql) (0.1.6)\n",
      "Requirement already satisfied: prompt-toolkit!=3.0.37,<3.1.0,>=3.0.30 in /Library/Frameworks/Python.framework/Versions/3.11/lib/python3.11/site-packages (from ipython->ipython-sql) (3.0.39)\n",
      "Requirement already satisfied: pygments>=2.4.0 in /Library/Frameworks/Python.framework/Versions/3.11/lib/python3.11/site-packages (from ipython->ipython-sql) (2.16.1)\n",
      "Requirement already satisfied: stack-data in /Library/Frameworks/Python.framework/Versions/3.11/lib/python3.11/site-packages (from ipython->ipython-sql) (0.6.3)\n",
      "Requirement already satisfied: traitlets>=5 in /Library/Frameworks/Python.framework/Versions/3.11/lib/python3.11/site-packages (from ipython->ipython-sql) (5.13.0)\n",
      "Requirement already satisfied: pexpect>4.3 in /Library/Frameworks/Python.framework/Versions/3.11/lib/python3.11/site-packages (from ipython->ipython-sql) (4.8.0)\n",
      "Requirement already satisfied: appnope in /Library/Frameworks/Python.framework/Versions/3.11/lib/python3.11/site-packages (from ipython->ipython-sql) (0.1.3)\n",
      "Requirement already satisfied: wcwidth in /Library/Frameworks/Python.framework/Versions/3.11/lib/python3.11/site-packages (from prettytable->ipython-sql) (0.2.9)\n",
      "Requirement already satisfied: parso<0.9.0,>=0.8.3 in /Library/Frameworks/Python.framework/Versions/3.11/lib/python3.11/site-packages (from jedi>=0.16->ipython->ipython-sql) (0.8.3)\n",
      "Requirement already satisfied: ptyprocess>=0.5 in /Library/Frameworks/Python.framework/Versions/3.11/lib/python3.11/site-packages (from pexpect>4.3->ipython->ipython-sql) (0.7.0)\n",
      "Requirement already satisfied: executing>=1.2.0 in /Library/Frameworks/Python.framework/Versions/3.11/lib/python3.11/site-packages (from stack-data->ipython->ipython-sql) (2.0.1)\n",
      "Requirement already satisfied: asttokens>=2.1.0 in /Library/Frameworks/Python.framework/Versions/3.11/lib/python3.11/site-packages (from stack-data->ipython->ipython-sql) (2.4.1)\n",
      "Requirement already satisfied: pure-eval in /Library/Frameworks/Python.framework/Versions/3.11/lib/python3.11/site-packages (from stack-data->ipython->ipython-sql) (0.2.2)\n",
      "\n",
      "\u001b[1m[\u001b[0m\u001b[34;49mnotice\u001b[0m\u001b[1;39;49m]\u001b[0m\u001b[39;49m A new release of pip is available: \u001b[0m\u001b[31;49m23.2.1\u001b[0m\u001b[39;49m -> \u001b[0m\u001b[32;49m23.3.2\u001b[0m\n",
      "\u001b[1m[\u001b[0m\u001b[34;49mnotice\u001b[0m\u001b[1;39;49m]\u001b[0m\u001b[39;49m To update, run: \u001b[0m\u001b[32;49mpip3 install --upgrade pip\u001b[0m\n",
      "Note: you may need to restart the kernel to use updated packages.\n"
     ]
    }
   ],
   "source": [
    "#run this cell if you have not installed these packages\n",
    "%pip install pandas sqlalchemy ipython-sql matplotlib seaborn"
   ]
  },
  {
   "cell_type": "code",
   "execution_count": 2,
   "metadata": {},
   "outputs": [
    {
     "name": "stdout",
     "output_type": "stream",
     "text": [
      " * sqlite:///chinook.sqlite\n",
      "Done.\n"
     ]
    },
    {
     "data": {
      "text/html": [
       "<table>\n",
       "    <thead>\n",
       "        <tr>\n",
       "            <th>name</th>\n",
       "        </tr>\n",
       "    </thead>\n",
       "    <tbody>\n",
       "        <tr>\n",
       "            <td>albums</td>\n",
       "        </tr>\n",
       "        <tr>\n",
       "            <td>sqlite_sequence</td>\n",
       "        </tr>\n",
       "        <tr>\n",
       "            <td>artists</td>\n",
       "        </tr>\n",
       "        <tr>\n",
       "            <td>customers</td>\n",
       "        </tr>\n",
       "        <tr>\n",
       "            <td>employees</td>\n",
       "        </tr>\n",
       "        <tr>\n",
       "            <td>genres</td>\n",
       "        </tr>\n",
       "        <tr>\n",
       "            <td>invoices</td>\n",
       "        </tr>\n",
       "        <tr>\n",
       "            <td>invoice_items</td>\n",
       "        </tr>\n",
       "        <tr>\n",
       "            <td>media_types</td>\n",
       "        </tr>\n",
       "        <tr>\n",
       "            <td>playlists</td>\n",
       "        </tr>\n",
       "        <tr>\n",
       "            <td>playlist_track</td>\n",
       "        </tr>\n",
       "        <tr>\n",
       "            <td>tracks</td>\n",
       "        </tr>\n",
       "        <tr>\n",
       "            <td>sqlite_stat1</td>\n",
       "        </tr>\n",
       "    </tbody>\n",
       "</table>"
      ],
      "text/plain": [
       "[('albums',),\n",
       " ('sqlite_sequence',),\n",
       " ('artists',),\n",
       " ('customers',),\n",
       " ('employees',),\n",
       " ('genres',),\n",
       " ('invoices',),\n",
       " ('invoice_items',),\n",
       " ('media_types',),\n",
       " ('playlists',),\n",
       " ('playlist_track',),\n",
       " ('tracks',),\n",
       " ('sqlite_stat1',)]"
      ]
     },
     "metadata": {},
     "output_type": "display_data"
    },
    {
     "name": "stdout",
     "output_type": "stream",
     "text": [
      " * sqlite:///chinook.sqlite\n",
      "Done.\n"
     ]
    },
    {
     "data": {
      "text/html": [
       "<table>\n",
       "    <thead>\n",
       "        <tr>\n",
       "            <th>AlbumId</th>\n",
       "            <th>Title</th>\n",
       "            <th>ArtistId</th>\n",
       "        </tr>\n",
       "    </thead>\n",
       "    <tbody>\n",
       "        <tr>\n",
       "            <td>1</td>\n",
       "            <td>For Those About To Rock We Salute You</td>\n",
       "            <td>1</td>\n",
       "        </tr>\n",
       "        <tr>\n",
       "            <td>2</td>\n",
       "            <td>Balls to the Wall</td>\n",
       "            <td>2</td>\n",
       "        </tr>\n",
       "        <tr>\n",
       "            <td>3</td>\n",
       "            <td>Restless and Wild</td>\n",
       "            <td>2</td>\n",
       "        </tr>\n",
       "        <tr>\n",
       "            <td>4</td>\n",
       "            <td>Let There Be Rock</td>\n",
       "            <td>1</td>\n",
       "        </tr>\n",
       "        <tr>\n",
       "            <td>5</td>\n",
       "            <td>Big Ones</td>\n",
       "            <td>3</td>\n",
       "        </tr>\n",
       "    </tbody>\n",
       "</table>"
      ],
      "text/plain": [
       "[(1, 'For Those About To Rock We Salute You', 1),\n",
       " (2, 'Balls to the Wall', 2),\n",
       " (3, 'Restless and Wild', 2),\n",
       " (4, 'Let There Be Rock', 1),\n",
       " (5, 'Big Ones', 3)]"
      ]
     },
     "metadata": {},
     "output_type": "display_data"
    }
   ],
   "source": [
    "# Load chinook dataset and query it using SQL magic into pandas dataframes\n",
    "import pandas as pd\n",
    "import sqlite3\n",
    "%load_ext sql\n",
    "\n",
    "# Load data\n",
    "conn = sqlite3.connect(\"chinook.sqlite\")\n",
    "\n",
    "# Tell %sql about the database\n",
    "%sql sqlite:///chinook.sqlite\n",
    "\n",
    "# List tables in database\n",
    "query = \"SELECT name FROM sqlite_master WHERE type='table';\"\n",
    "\n",
    "# Read data into a Pandas DataFrame\n",
    "tables = %sql $query\n",
    "\n",
    "# Print head\n",
    "display(tables)\n",
    "\n",
    "# Query to get the first 5 rows of the `albums` table\n",
    "result = %sql SELECT * FROM albums LIMIT 5;\n",
    "\n",
    "# Display query result, note that Pandas DataFrame is returned!\n",
    "display(result)\n"
   ]
  },
  {
   "cell_type": "code",
   "execution_count": 3,
   "metadata": {},
   "outputs": [],
   "source": [
    "import numpy as np\n",
    "import matplotlib.pyplot as plt\n",
    "import seaborn as sns"
   ]
  },
  {
   "cell_type": "code",
   "execution_count": 15,
   "metadata": {},
   "outputs": [
    {
     "name": "stdout",
     "output_type": "stream",
     "text": [
      " * sqlite:///chinook.sqlite\n",
      "Done.\n",
      "+-----------------------------------------+---------------------------------------+\n",
      "|                   Name                  |                 Title                 |\n",
      "+-----------------------------------------+---------------------------------------+\n",
      "| For Those About To Rock (We Salute You) | For Those About To Rock We Salute You |\n",
      "|            Balls to the Wall            |           Balls to the Wall           |\n",
      "|             Fast As a Shark             |           Restless and Wild           |\n",
      "|            Restless and Wild            |           Restless and Wild           |\n",
      "|           Princess of the Dawn          |           Restless and Wild           |\n",
      "+-----------------------------------------+---------------------------------------+\n"
     ]
    }
   ],
   "source": [
    "##Q1\n",
    "list = %sql SELECT  t.Name, a.Title FROM tracks t full join albums a on t.AlbumId = a.AlbumId LIMIT 5;\n",
    "print(list)"
   ]
  },
  {
   "cell_type": "code",
   "execution_count": 5,
   "metadata": {},
   "outputs": [
    {
     "name": "stdout",
     "output_type": "stream",
     "text": [
      " * sqlite:///chinook.sqlite\n",
      "Done.\n",
      "+----------------+-------+\n",
      "|    Country     | count |\n",
      "+----------------+-------+\n",
      "|      USA       |   13  |\n",
      "|     Canada     |   8   |\n",
      "|     France     |   5   |\n",
      "|     Brazil     |   5   |\n",
      "|    Germany     |   4   |\n",
      "| United Kingdom |   3   |\n",
      "|    Portugal    |   2   |\n",
      "|     India      |   2   |\n",
      "| Czech Republic |   2   |\n",
      "|     Sweden     |   1   |\n",
      "|     Spain      |   1   |\n",
      "|     Poland     |   1   |\n",
      "|     Norway     |   1   |\n",
      "|  Netherlands   |   1   |\n",
      "|     Italy      |   1   |\n",
      "|    Ireland     |   1   |\n",
      "|    Hungary     |   1   |\n",
      "|    Finland     |   1   |\n",
      "|    Denmark     |   1   |\n",
      "|     Chile      |   1   |\n",
      "|    Belgium     |   1   |\n",
      "|    Austria     |   1   |\n",
      "|   Australia    |   1   |\n",
      "|   Argentina    |   1   |\n",
      "+----------------+-------+\n"
     ]
    }
   ],
   "source": [
    "#Q2\n",
    "query = \"SELECT Country, count(CustomerId) count FROM customers group by Country order by count DESC;\"\n",
    "customers = %sql $query\n",
    "print(customers)"
   ]
  },
  {
   "cell_type": "code",
   "execution_count": 6,
   "metadata": {},
   "outputs": [
    {
     "name": "stdout",
     "output_type": "stream",
     "text": [
      " * sqlite:///chinook.sqlite\n",
      "Done.\n",
      "+--------------------+------------------+\n",
      "|        Name        | count(t.TrackId) |\n",
      "+--------------------+------------------+\n",
      "|        Rock        |       1297       |\n",
      "|       Latin        |       579        |\n",
      "|       Metal        |       374        |\n",
      "| Alternative & Punk |       332        |\n",
      "|        Jazz        |       130        |\n",
      "+--------------------+------------------+\n"
     ]
    }
   ],
   "source": [
    "#Q3\n",
    "query = \"SELECT g.Name, count(t.TrackId) FROM genres g inner join tracks t on g.GenreId= t.GenreId group by g.Name order by count(t.TrackId) desc limit 5;\"\n",
    "genres = %sql $query\n",
    "print(genres)"
   ]
  },
  {
   "cell_type": "code",
   "execution_count": 7,
   "metadata": {},
   "outputs": [
    {
     "name": "stdout",
     "output_type": "stream",
     "text": [
      " * sqlite:///chinook.sqlite\n",
      "Done.\n",
      "+-----------+--------------+--------------------+\n",
      "| FirstName |   LastName   |    AVG(i.Total)    |\n",
      "+-----------+--------------+--------------------+\n",
      "|   Helena  |     Holý     | 7.088571428571429  |\n",
      "|  Richard  |  Cunningham  | 6.802857142857143  |\n",
      "|    Luis   |    Rojas     | 6.659999999999999  |\n",
      "|  Ladislav |    Kovács    | 6.517142857142857  |\n",
      "|    Hugh   |   O'Reilly   | 6.517142857142857  |\n",
      "|   Julia   |   Barnett    | 6.231428571428572  |\n",
      "|   Frank   |   Ralston    | 6.231428571428571  |\n",
      "|    Fynn   |  Zimmermann  | 6.231428571428571  |\n",
      "|    Puja   |  Srivastava  | 6.1066666666666665 |\n",
      "|   Astrid  |    Gruber    | 6.088571428571428  |\n",
      "|   Victor  |   Stevens    | 6.088571428571428  |\n",
      "|   Terhi   |  Hämäläinen  | 5.945714285714287  |\n",
      "| František | Wichterlová  | 5.802857142857143  |\n",
      "|  Isabelle |   Mercier    | 5.802857142857143  |\n",
      "|  Johannes | Van der Berg | 5.8028571428571425 |\n",
      "|    Jack   |    Smith     | 5.660000000000001  |\n",
      "|    João   |  Fernandes   | 5.660000000000001  |\n",
      "|    Luís   |  Gonçalves   | 5.659999999999999  |\n",
      "|  François |   Tremblay   | 5.659999999999999  |\n",
      "|   Bjørn   |    Hansen    | 5.659999999999999  |\n",
      "|    Dan    |    Miller    | 5.659999999999999  |\n",
      "|  Heather  |   Leacock    | 5.659999999999999  |\n",
      "|   Wyatt   |    Girard    | 5.659999999999999  |\n",
      "|  Jennifer |   Peterson   | 5.517142857142858  |\n",
      "|    Tim    |    Goyer     | 5.517142857142858  |\n",
      "|  Camille  |   Bernard    | 5.517142857142858  |\n",
      "| Dominique |   Lefebvre   | 5.517142857142858  |\n",
      "|   Joakim  |  Johansson   | 5.517142857142858  |\n",
      "|   Manoj   |    Pareek    | 5.517142857142858  |\n",
      "|   Leonie  |    Köhler    | 5.3742857142857146 |\n",
      "|    Kara   |   Nielsen    | 5.3742857142857146 |\n",
      "|  Eduardo  |   Martins    | 5.3742857142857146 |\n",
      "| Alexandre |    Rocha     | 5.3742857142857146 |\n",
      "|  Fernanda |    Ramos     | 5.3742857142857146 |\n",
      "|    Mark   |   Philips    | 5.3742857142857146 |\n",
      "|  Michelle |    Brooks    | 5.3742857142857146 |\n",
      "|  Patrick  |     Gray     | 5.3742857142857146 |\n",
      "|   Edward  |   Francis    | 5.3742857142857146 |\n",
      "|   Martha  |     Silk     | 5.3742857142857146 |\n",
      "|   Aaron   |   Mitchell   | 5.3742857142857146 |\n",
      "|  Madalena |   Sampaio    | 5.3742857142857146 |\n",
      "|   Hannah  |  Schneider   | 5.3742857142857146 |\n",
      "|   Niklas  |   Schröder   | 5.3742857142857146 |\n",
      "|    Marc   |    Dubois    | 5.3742857142857146 |\n",
      "|   Lucas   |   Mancini    | 5.3742857142857146 |\n",
      "| Stanisław |    Wójcik    | 5.3742857142857146 |\n",
      "|    Emma   |    Jones     | 5.3742857142857146 |\n",
      "|    Phil   |    Hughes    | 5.3742857142857146 |\n",
      "|    Mark   |    Taylor    | 5.3742857142857146 |\n",
      "|   Diego   |  Gutiérrez   | 5.3742857142857146 |\n",
      "|    Daan   |   Peeters    | 5.374285714285714  |\n",
      "|  Roberto  |   Almeida    | 5.374285714285714  |\n",
      "|   Frank   |    Harris    | 5.374285714285714  |\n",
      "|   Kathy   |    Chase     | 5.374285714285714  |\n",
      "|    John   |    Gordon    | 5.374285714285714  |\n",
      "|   Robert  |    Brown     | 5.374285714285714  |\n",
      "|   Ellie   |   Sullivan   | 5.374285714285714  |\n",
      "|  Enrique  |    Muñoz     | 5.374285714285714  |\n",
      "|   Steve   |    Murray    | 5.374285714285714  |\n",
      "+-----------+--------------+--------------------+\n"
     ]
    }
   ],
   "source": [
    "#Q4\n",
    "query = \"SELECT FirstName,LastName, AVG(i.Total) FROM invoices i inner join customers c on i.CustomerId = c.CustomerId group by c.CustomerId order by AVG(i.Total) desc;\"\n",
    "invoice = %sql $query\n",
    "print(invoice)"
   ]
  },
  {
   "cell_type": "code",
   "execution_count": 8,
   "metadata": {},
   "outputs": [
    {
     "name": "stdout",
     "output_type": "stream",
     "text": [
      " * sqlite:///chinook.sqlite\n",
      "Done.\n",
      "+-----------+----------+--------------------+\n",
      "| FirstName | LastName |    sum(i.Total)    |\n",
      "+-----------+----------+--------------------+\n",
      "|   Helena  |   Holý   | 49.620000000000005 |\n",
      "+-----------+----------+--------------------+\n"
     ]
    }
   ],
   "source": [
    "#Q5\n",
    "query = \"SELECT FirstName,LastName, sum(i.Total) FROM invoices i inner join customers c on i.CustomerId = c.CustomerId group by c.CustomerId order by sum(i.Total) desc limit 1;\"\n",
    "purchases = %sql $query\n",
    "print(purchases)"
   ]
  },
  {
   "cell_type": "code",
   "execution_count": 9,
   "metadata": {},
   "outputs": [
    {
     "name": "stdout",
     "output_type": "stream",
     "text": [
      " * sqlite:///chinook.sqlite\n",
      "Done.\n"
     ]
    },
    {
     "data": {
      "text/html": [
       "<table>\n",
       "    <thead>\n",
       "        <tr>\n",
       "            <th>CustomerId</th>\n",
       "            <th>FirstName</th>\n",
       "            <th>LastName</th>\n",
       "            <th>Company</th>\n",
       "            <th>Address</th>\n",
       "            <th>City</th>\n",
       "            <th>State</th>\n",
       "            <th>Country</th>\n",
       "            <th>PostalCode</th>\n",
       "            <th>Phone</th>\n",
       "            <th>Fax</th>\n",
       "            <th>Email</th>\n",
       "            <th>SupportRepId</th>\n",
       "        </tr>\n",
       "    </thead>\n",
       "    <tbody>\n",
       "        <tr>\n",
       "            <td>1</td>\n",
       "            <td>Luís</td>\n",
       "            <td>Gonçalves</td>\n",
       "            <td>Embraer - Empresa Brasileira de Aeronáutica S.A.</td>\n",
       "            <td>Av. Brigadeiro Faria Lima, 2170</td>\n",
       "            <td>São José dos Campos</td>\n",
       "            <td>SP</td>\n",
       "            <td>Brazil</td>\n",
       "            <td>12227-000</td>\n",
       "            <td>+55 (12) 3923-5555</td>\n",
       "            <td>+55 (12) 3923-5566</td>\n",
       "            <td>luisg@embraer.com.br</td>\n",
       "            <td>3</td>\n",
       "        </tr>\n",
       "        <tr>\n",
       "            <td>2</td>\n",
       "            <td>Leonie</td>\n",
       "            <td>Köhler</td>\n",
       "            <td>None</td>\n",
       "            <td>Theodor-Heuss-Straße 34</td>\n",
       "            <td>Stuttgart</td>\n",
       "            <td>None</td>\n",
       "            <td>Germany</td>\n",
       "            <td>70174</td>\n",
       "            <td>+49 0711 2842222</td>\n",
       "            <td>None</td>\n",
       "            <td>leonekohler@surfeu.de</td>\n",
       "            <td>5</td>\n",
       "        </tr>\n",
       "        <tr>\n",
       "            <td>3</td>\n",
       "            <td>François</td>\n",
       "            <td>Tremblay</td>\n",
       "            <td>None</td>\n",
       "            <td>1498 rue Bélanger</td>\n",
       "            <td>Montréal</td>\n",
       "            <td>QC</td>\n",
       "            <td>Canada</td>\n",
       "            <td>H2G 1A7</td>\n",
       "            <td>+1 (514) 721-4711</td>\n",
       "            <td>None</td>\n",
       "            <td>ftremblay@gmail.com</td>\n",
       "            <td>3</td>\n",
       "        </tr>\n",
       "        <tr>\n",
       "            <td>4</td>\n",
       "            <td>Bjørn</td>\n",
       "            <td>Hansen</td>\n",
       "            <td>None</td>\n",
       "            <td>Ullevålsveien 14</td>\n",
       "            <td>Oslo</td>\n",
       "            <td>None</td>\n",
       "            <td>Norway</td>\n",
       "            <td>0171</td>\n",
       "            <td>+47 22 44 22 22</td>\n",
       "            <td>None</td>\n",
       "            <td>bjorn.hansen@yahoo.no</td>\n",
       "            <td>4</td>\n",
       "        </tr>\n",
       "        <tr>\n",
       "            <td>5</td>\n",
       "            <td>František</td>\n",
       "            <td>Wichterlová</td>\n",
       "            <td>JetBrains s.r.o.</td>\n",
       "            <td>Klanova 9/506</td>\n",
       "            <td>Prague</td>\n",
       "            <td>None</td>\n",
       "            <td>Czech Republic</td>\n",
       "            <td>14700</td>\n",
       "            <td>+420 2 4172 5555</td>\n",
       "            <td>+420 2 4172 5555</td>\n",
       "            <td>frantisekw@jetbrains.com</td>\n",
       "            <td>4</td>\n",
       "        </tr>\n",
       "    </tbody>\n",
       "</table>"
      ],
      "text/plain": [
       "[(1, 'Luís', 'Gonçalves', 'Embraer - Empresa Brasileira de Aeronáutica S.A.', 'Av. Brigadeiro Faria Lima, 2170', 'São José dos Campos', 'SP', 'Brazil', '12227-000', '+55 (12) 3923-5555', '+55 (12) 3923-5566', 'luisg@embraer.com.br', 3),\n",
       " (2, 'Leonie', 'Köhler', None, 'Theodor-Heuss-Straße 34', 'Stuttgart', None, 'Germany', '70174', '+49 0711 2842222', None, 'leonekohler@surfeu.de', 5),\n",
       " (3, 'François', 'Tremblay', None, '1498 rue Bélanger', 'Montréal', 'QC', 'Canada', 'H2G 1A7', '+1 (514) 721-4711', None, 'ftremblay@gmail.com', 3),\n",
       " (4, 'Bjørn', 'Hansen', None, 'Ullevålsveien 14', 'Oslo', None, 'Norway', '0171', '+47 22 44 22 22', None, 'bjorn.hansen@yahoo.no', 4),\n",
       " (5, 'František', 'Wichterlová', 'JetBrains s.r.o.', 'Klanova 9/506', 'Prague', None, 'Czech Republic', '14700', '+420 2 4172 5555', '+420 2 4172 5555', 'frantisekw@jetbrains.com', 4)]"
      ]
     },
     "metadata": {},
     "output_type": "display_data"
    }
   ],
   "source": [
    "t= %sql select * from customers limit 5;\n",
    "display(t)"
   ]
  }
 ],
 "metadata": {
  "kernelspec": {
   "display_name": ".venv",
   "language": "python",
   "name": "python3"
  },
  "language_info": {
   "codemirror_mode": {
    "name": "ipython",
    "version": 3
   },
   "file_extension": ".py",
   "mimetype": "text/x-python",
   "name": "python",
   "nbconvert_exporter": "python",
   "pygments_lexer": "ipython3",
   "version": "3.11.5"
  }
 },
 "nbformat": 4,
 "nbformat_minor": 2
}
