{
  "cells": [
    {
      "cell_type": "markdown",
      "metadata": {
        "id": "view-in-github",
        "colab_type": "text"
      },
      "source": [
        "<a href=\"https://colab.research.google.com/github/ambwhl/datasci_223/blob/exercise-4/exercises/4-classification/exercise.ipynb\" target=\"_parent\"><img src=\"https://colab.research.google.com/assets/colab-badge.svg\" alt=\"Open In Colab\"/></a>"
      ]
    },
    {
      "cell_type": "markdown",
      "metadata": {
        "id": "l0bAkseEHOFq"
      },
      "source": [
        "# Classification on `emnist`\n",
        "\n",
        "## 1. Create `Readme.md` to document your work\n",
        "\n",
        "Explain your choices, process, and outcomes.\n",
        "\n",
        "## 2. Classify all symbols\n",
        "\n",
        "### Choose a model\n",
        "\n",
        "Your choice of model! Choose wisely...\n",
        "\n",
        "### Train away!\n",
        "\n",
        "Is do you need to tune any parameters? Is the model expecting data in a different format?\n",
        "\n",
        "### Evaluate the model\n",
        "\n",
        "Evaluate the models on the test set, analyze the confusion matrix to see where the model performs well and where it struggles.\n",
        "\n",
        "### Investigate subsets\n",
        "\n",
        "On which classes does the model perform well? Poorly? Evaluate again, excluding easily confused symbols (such as 'O' and '0').\n",
        "\n",
        "### Improve performance\n",
        "\n",
        "Brainstorm for improving the performance. This could include trying different architectures, adding more layers, changing the loss function, or using data augmentation techniques.\n",
        "\n",
        "## 2. Classify digits vs. letters model showdown\n",
        "\n",
        "Perform a full showdown classifying digits vs letters:\n",
        "\n",
        "1. Create a column for whether each row is a digit or a letter\n",
        "2. Choose an evaluation metric\n",
        "3. Choose several candidate models to train\n",
        "4. Divide data to reserve a validation set that will NOT be used in training/testing\n",
        "5. K-fold train/test\n",
        "    1. Create train/test splits from the non-validation dataset\n",
        "    2. Train each candidate model (best practice: use the same split for all models)\n",
        "    3. Apply the model the the test split\n",
        "    4. (*Optional*) Perform hyper-parametric search\n",
        "    5. Record the model evaluation metrics\n",
        "    6. Repeat with a new train/test split\n",
        "6. Promote winner, apply model to validation set\n",
        "7. (*Optional*) Perform hyper-parametric search, if applicable\n",
        "8. Report model performance"
      ]
    },
    {
      "cell_type": "markdown",
      "metadata": {
        "id": "3pQr9v8RHOFs"
      },
      "source": []
    },
    {
      "cell_type": "code",
      "source": [
        "# Uncomment and install below packages if not already installed\n",
        "%pip install -q numpy pandas matplotlib seaborn scikit-learn tensorflow emnist xgboost\n",
        "%reset -f"
      ],
      "metadata": {
        "id": "UlXBcHMPIqiD"
      },
      "execution_count": null,
      "outputs": []
    },
    {
      "cell_type": "code",
      "source": [
        "# Import packages\n",
        "import os\n",
        "import string\n",
        "import random\n",
        "import numpy as np\n",
        "import pandas as pd\n",
        "import matplotlib.pyplot as plt\n",
        "import seaborn as sns\n",
        "import emnist\n",
        "from IPython.display import display, Markdown\n",
        "\n",
        "# Random Forest\n",
        "from sklearn.ensemble import RandomForestClassifier\n",
        "from sklearn.metrics import confusion_matrix, accuracy_score, precision_score, recall_score, f1_score\n",
        "# Logistic Regression\n",
        "from sklearn.linear_model import LogisticRegression\n",
        "from sklearn.preprocessing import StandardScaler\n",
        "# XGBoost (SVM)\n",
        "from xgboost import XGBClassifier\n",
        "# Deep Learning\n",
        "import tensorflow as tf\n",
        "from tensorflow import keras\n",
        "from tensorflow.keras.models import Sequential\n",
        "from tensorflow.keras.layers import Dense, Flatten\n",
        "\n",
        "# Constants\n",
        "SIZE = 28\n",
        "REBUILD = True\n",
        "os.environ['TF_CPP_MIN_LOG_LEVEL'] = '2'"
      ],
      "metadata": {
        "id": "Fm95JlPUKWq2"
      },
      "execution_count": null,
      "outputs": []
    },
    {
      "cell_type": "code",
      "source": [
        "##help function\n",
        "def int_to_char(label):\n",
        "    if label < 10:\n",
        "        return str(label)\n",
        "    elif label < 36:\n",
        "        return chr(label - 10 + ord('A'))\n",
        "    else:\n",
        "        return chr(label - 36 + ord('a'))"
      ],
      "metadata": {
        "id": "q8NNt6sZNhxN"
      },
      "execution_count": 7,
      "outputs": []
    },
    {
      "cell_type": "code",
      "execution_count": 10,
      "metadata": {
        "id": "xBPby4zFI1cP"
      },
      "outputs": [],
      "source": [
        "# Load data\n",
        "image, label = emnist.extract_training_samples('byclass')\n",
        "train = pd.DataFrame()\n",
        "train['image'] = list(image)\n",
        "train['image_flat'] = train['image'].apply(lambda x: np.array(x).reshape(-1))\n",
        "train['label'] = label\n",
        "\n",
        "# Convert labels to characters\n",
        "class_label = np.array([int_to_char(l) for l in label])\n",
        "\n",
        "# Add a column with the character corresponding to the label\n",
        "train['class'] = class_label\n",
        "\n",
        "# load test set\n",
        "imaget, labelt = emnist.extract_test_samples('byclass')\n",
        "class_labelt = np.array([int_to_char(l) for l in labelt])\n",
        "valid = pd.DataFrame()\n",
        "valid['image'] = list(imaget)\n",
        "valid['image_flat'] = valid['image'].apply(lambda x: np.array(x).reshape(-1))\n",
        "valid['label'] = labelt\n",
        "valid['class'] = class_labelt"
      ]
    },
    {
      "cell_type": "code",
      "source": [
        "metrics_dict = {\n",
        "    'all symbols' : { # task name\n",
        "        'logistic_regression': {\n",
        "            'confusion_matrix': [],\n",
        "            'accuracy': [],\n",
        "            'precision': [],\n",
        "            'recall': [],\n",
        "            'f1': []\n",
        "        },\n",
        "        'xgboost': {\n",
        "            'confusion_matrix': [],\n",
        "            'accuracy': [],\n",
        "            'precision': [],\n",
        "            'recall': [],\n",
        "            'f1': []\n",
        "        },\n",
        "        'random_forest': {\n",
        "            'confusion_matrix': [],\n",
        "            'accuracy': [],\n",
        "            'precision': [],\n",
        "            'recall': [],\n",
        "            'f1': []\n",
        "        },\n",
        "        'neural_network': {\n",
        "            'confusion_matrix': [],\n",
        "            'accuracy': [],\n",
        "            'precision': [],\n",
        "            'recall': [],\n",
        "            'f1': []\n",
        "        }\n",
        "    }\n",
        "}\n",
        "\n"
      ],
      "metadata": {
        "id": "-h7rZmyB__yU"
      },
      "execution_count": 5,
      "outputs": []
    },
    {
      "cell_type": "code",
      "source": [
        "# RandomForest\n",
        "task = 'all symbols'\n",
        "model_name = 'random_forest'\n",
        "metrics_dict[task] = {model_name: {}}\n",
        "\n",
        "# Initialize random forest classifier\n",
        "rf_clf = RandomForestClassifier(n_estimators=100, random_state=42)\n",
        "\n",
        "# Train and evaluate model\n",
        "rf_clf.fit(train['image_flat'].tolist(), train['label'])\n",
        "y_pred = rf_clf.predict(valid['image_flat'].tolist())\n",
        "\n",
        "# Calculate performance metrics\n",
        "acc = accuracy_score(valid['label'], y_pred)\n",
        "prec = precision_score(valid['label'], y_pred)\n",
        "rec = recall_score(valid['label'], y_pred)\n",
        "f1 = f1_score(valid['label'], y_pred)\n",
        "cm = confusion_matrix(valid['label'], y_pred)\n",
        "\n",
        "# Store performance metrics in dictionary\n",
        "metrics_dict[task][model_name] = {'accuracy': acc,\n",
        "                                  'precision': prec,\n",
        "                                  'recall': rec,\n",
        "                                  'f1': f1,\n",
        "                                  'confusion_matrix': cm}\n",
        "\n",
        "# Display performance metrics\n",
        "display_metrics(task, model_name, metrics_dict)"
      ],
      "metadata": {
        "id": "eR6cS3jiMp1h",
        "outputId": "476db64d-b4b8-4043-aa9f-668cc047ed25",
        "colab": {
          "base_uri": "https://localhost:8080/",
          "height": 253
        }
      },
      "execution_count": 6,
      "outputs": [
        {
          "output_type": "error",
          "ename": "NameError",
          "evalue": "name 'train' is not defined",
          "traceback": [
            "\u001b[0;31m---------------------------------------------------------------------------\u001b[0m",
            "\u001b[0;31mNameError\u001b[0m                                 Traceback (most recent call last)",
            "\u001b[0;32m<ipython-input-6-860123aa28a5>\u001b[0m in \u001b[0;36m<cell line: 10>\u001b[0;34m()\u001b[0m\n\u001b[1;32m      8\u001b[0m \u001b[0;34m\u001b[0m\u001b[0m\n\u001b[1;32m      9\u001b[0m \u001b[0;31m# Train and evaluate model\u001b[0m\u001b[0;34m\u001b[0m\u001b[0;34m\u001b[0m\u001b[0m\n\u001b[0;32m---> 10\u001b[0;31m \u001b[0mrf_clf\u001b[0m\u001b[0;34m.\u001b[0m\u001b[0mfit\u001b[0m\u001b[0;34m(\u001b[0m\u001b[0mtrain\u001b[0m\u001b[0;34m[\u001b[0m\u001b[0;34m'image_flat'\u001b[0m\u001b[0;34m]\u001b[0m\u001b[0;34m.\u001b[0m\u001b[0mtolist\u001b[0m\u001b[0;34m(\u001b[0m\u001b[0;34m)\u001b[0m\u001b[0;34m,\u001b[0m \u001b[0mtrain\u001b[0m\u001b[0;34m[\u001b[0m\u001b[0;34m'label'\u001b[0m\u001b[0;34m]\u001b[0m\u001b[0;34m)\u001b[0m\u001b[0;34m\u001b[0m\u001b[0;34m\u001b[0m\u001b[0m\n\u001b[0m\u001b[1;32m     11\u001b[0m \u001b[0my_pred\u001b[0m \u001b[0;34m=\u001b[0m \u001b[0mrf_clf\u001b[0m\u001b[0;34m.\u001b[0m\u001b[0mpredict\u001b[0m\u001b[0;34m(\u001b[0m\u001b[0mvalid\u001b[0m\u001b[0;34m[\u001b[0m\u001b[0;34m'image_flat'\u001b[0m\u001b[0;34m]\u001b[0m\u001b[0;34m.\u001b[0m\u001b[0mtolist\u001b[0m\u001b[0;34m(\u001b[0m\u001b[0;34m)\u001b[0m\u001b[0;34m)\u001b[0m\u001b[0;34m\u001b[0m\u001b[0;34m\u001b[0m\u001b[0m\n\u001b[1;32m     12\u001b[0m \u001b[0;34m\u001b[0m\u001b[0m\n",
            "\u001b[0;31mNameError\u001b[0m: name 'train' is not defined"
          ]
        }
      ]
    }
  ],
  "metadata": {
    "language_info": {
      "name": "python"
    },
    "colab": {
      "provenance": [],
      "include_colab_link": true
    },
    "kernelspec": {
      "name": "python3",
      "display_name": "Python 3"
    }
  },
  "nbformat": 4,
  "nbformat_minor": 0
}