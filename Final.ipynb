{
  "cells": [
    {
      "cell_type": "markdown",
      "metadata": {
        "id": "view-in-github",
        "colab_type": "text"
      },
      "source": [
        "<a href=\"https://colab.research.google.com/github/ambwhl/datasci_223/blob/Final-Project/Final.ipynb\" target=\"_parent\"><img src=\"https://colab.research.google.com/assets/colab-badge.svg\" alt=\"Open In Colab\"/></a>"
      ]
    },
    {
      "cell_type": "markdown",
      "metadata": {
        "id": "l0bAkseEHOFq"
      },
      "source": [
        "## Final Project: Kidney Renal Clear Cell Carcinoma (KIRC) Survival prediction and biomarker identification\n",
        "\n",
        "### Introduction\n",
        "I am intersected in building prognostic prediction model and finding the potential biomarker for cancer patient. The data I used for this project is a subset of kidney renal clear cell carcinoma (KIRC), containing of 243 patients (subjects) and 16380 variables. The variables (predictors) are very rich: clinical covariates (e.g. cancer stage, tumor grade, and survival status), messenger RNA (mRNA) expression, microRNA (miRNA) expression, and copy number variation (CNV).\n",
        "### Strategy and methods\n",
        "1.Dataset was downloaded, combined and made subset from this public project: https://www.synapse.org/#!Synapse:syn1710282/wiki/27303\n"
      ]
    },
    {
      "cell_type": "markdown",
      "metadata": {
        "id": "3pQr9v8RHOFs"
      },
      "source": []
    },
    {
      "cell_type": "code",
      "source": [
        "# Uncomment and install below packages if not already installed\n",
        "#%pip install -q numpy pandas scikit-learn"
      ],
      "metadata": {
        "id": "UlXBcHMPIqiD"
      },
      "execution_count": 3,
      "outputs": []
    },
    {
      "cell_type": "code",
      "source": [
        "## environment requirement\n",
        "%reset -f\n",
        "import pandas as pd\n",
        "import numpy as np\n",
        "from sklearn.model_selection import cross_val_score, KFold\n",
        "from sklearn.metrics import accuracy_score, roc_auc_score, f1_score, precision_score, recall_score\n",
        "from sklearn.ensemble import GradientBoostingClassifier, RandomForestClassifier\n",
        "from sklearn.linear_model import LogisticRegression\n",
        "from sklearn.neural_network import MLPClassifier\n",
        "from sklearn.svm import SVC\n",
        "from sklearn.tree import DecisionTreeClassifier\n",
        "from sklearn.neighbors import KNeighborsClassifier\n",
        "from sklearn.ensemble import StackingClassifier\n",
        "from sklearn.pipeline import make_pipeline\n",
        "from sklearn.preprocessing import StandardScaler\n"
      ],
      "metadata": {
        "id": "ylrkGNaOHPyl"
      },
      "execution_count": null,
      "outputs": []
    },
    {
      "cell_type": "code",
      "source": [
        "#1.Read in preprocessed KIRC survival data\n",
        "file_id = '1TX0MHLrz51wpUBCalsTpivVnBSFBvIGJ'\n",
        "link = f'https://drive.google.com/uc?export=download&id={file_id}'\n",
        "data = pd.read_csv(link)\n",
        "print('subject number:',  len(data.index))\n",
        "print('variable number:',  len(data.columns) - 2) ##minus the \"feature\" (subject index) and 'OS_vital_status' (survival outcome) columns.\n",
        "print('example of variables:', data.columns[1:11])\n"
      ],
      "metadata": {
        "id": "Fm95JlPUKWq2",
        "outputId": "2285919e-67de-4161-e67f-7b63332eebb3",
        "colab": {
          "base_uri": "https://localhost:8080/"
        }
      },
      "execution_count": 25,
      "outputs": [
        {
          "output_type": "stream",
          "name": "stdout",
          "text": [
            "subject number: 243\n",
            "variable number: 16380\n",
            "example of variables: Index(['age', 'gender', 'grade', 'stage', 'OS_vital_status', 'CNV_20q',\n",
            "       'CNV_20p', 'CNV_Xq11.2', 'CNV_14q', 'CNV_17q24.3'],\n",
            "      dtype='object')\n"
          ]
        }
      ]
    },
    {
      "cell_type": "code",
      "source": [
        "##2. Remove variables with all 0 value\n",
        "missindex=data.columns[(data==0).all()]\n",
        "df= data[missindex]\n",
        "#print(len(df.columns))\n",
        "newdata= data.drop(missindex,axis=1)\n",
        "\n",
        "#print(newdata.columns)\n",
        "newdata = newdata.set_index('feature')\n",
        "for col in ['gender', 'grade', 'stage']:\n",
        "    newdata[col] = newdata[col].astype('category')\n",
        "print(\"variable numbers after cleaning:\",len(newdata.columns)-1)"
      ],
      "metadata": {
        "id": "-UJcs1HpXtZQ",
        "outputId": "c8a0570d-4829-40c7-8d09-18778ef2ed68",
        "colab": {
          "base_uri": "https://localhost:8080/"
        }
      },
      "execution_count": 28,
      "outputs": [
        {
          "output_type": "stream",
          "name": "stdout",
          "text": [
            "variable numbers after cleaning: 15882\n"
          ]
        }
      ]
    },
    {
      "cell_type": "code",
      "source": [
        "## 3. Split to train and test data\n",
        "from sklearn.model_selection import train_test_split\n",
        "X = newdata.drop(columns=['OS_vital_status'])\n",
        "Y = newdata['OS_vital_status']\n",
        "#print(len(Y))\n",
        "#print(len(X.columns))\n",
        "X_train, X_test, Y_train, Y_test = train_test_split(X, Y, test_size=0.3, random_state=42)"
      ],
      "metadata": {
        "id": "XVyG3Z7gX1Yy"
      },
      "execution_count": 6,
      "outputs": []
    },
    {
      "cell_type": "code",
      "source": [
        "## 4. Train and cross-validate basic models\n",
        "# Define classifiers\n",
        "classifiers = {\n",
        "    'Gradient Boosting': GradientBoostingClassifier(),\n",
        "    #'Logistic Regression': LogisticRegression(),\n",
        "    'Neural Network': MLPClassifier(),\n",
        "    'SVM': SVC(),\n",
        "    'Decision Tree': DecisionTreeClassifier(),\n",
        "    'Random Forest': RandomForestClassifier(),\n",
        "    'kNN': KNeighborsClassifier()\n",
        "}\n",
        "\n",
        "# Define evaluation metrics\n",
        "scoring = {\n",
        "    'AUC': 'roc_auc',\n",
        "    'Accuracy': 'accuracy',\n",
        "    'F1 Score': 'f1',\n",
        "    'Precision': 'precision',\n",
        "    'Recall': 'recall'\n",
        "}\n",
        "\n",
        "# Perform cross-validation and calculate evaluation metrics for each classifier\n",
        "for clf_name, clf in classifiers.items():\n",
        "    print(f\"Evaluation metrics for {clf_name}:\")\n",
        "    for metric_name, scoring_method in scoring.items():\n",
        "        scores = cross_val_score(clf, X_train, Y_train, cv=KFold(n_splits=5, shuffle=True, random_state=42), scoring=scoring_method)\n",
        "        print(f\"{metric_name}: {np.mean(scores):.4f} (std: {np.std(scores):.4f})\")\n",
        "    print(\"\\n\")"
      ],
      "metadata": {
        "id": "PH1jfW-dX5e4",
        "outputId": "5638fabf-a644-44e9-d741-72293ca62261",
        "colab": {
          "base_uri": "https://localhost:8080/"
        }
      },
      "execution_count": 7,
      "outputs": [
        {
          "output_type": "stream",
          "name": "stdout",
          "text": [
            "Evaluation metrics for Gradient Boosting:\n",
            "AUC: 0.7711 (std: 0.0823)\n",
            "Accuracy: 0.7647 (std: 0.0720)\n",
            "F1 Score: 0.6300 (std: 0.1077)\n",
            "Precision: 0.7297 (std: 0.1735)\n",
            "Recall: 0.6051 (std: 0.1317)\n",
            "\n",
            "\n",
            "Evaluation metrics for Neural Network:\n",
            "AUC: 0.6200 (std: 0.0940)\n",
            "Accuracy: 0.6294 (std: 0.0941)\n",
            "F1 Score: 0.1594 (std: 0.2386)\n"
          ]
        },
        {
          "output_type": "stream",
          "name": "stderr",
          "text": [
            "/usr/local/lib/python3.10/dist-packages/sklearn/metrics/_classification.py:1344: UndefinedMetricWarning: Precision is ill-defined and being set to 0.0 due to no predicted samples. Use `zero_division` parameter to control this behavior.\n",
            "  _warn_prf(average, modifier, msg_start, len(result))\n"
          ]
        },
        {
          "output_type": "stream",
          "name": "stdout",
          "text": [
            "Precision: 0.4813 (std: 0.2574)\n",
            "Recall: 0.5213 (std: 0.4306)\n",
            "\n",
            "\n",
            "Evaluation metrics for SVM:\n",
            "AUC: 0.6819 (std: 0.0637)\n",
            "Accuracy: 0.6529 (std: 0.0506)\n",
            "F1 Score: 0.2912 (std: 0.1357)\n",
            "Precision: 0.7309 (std: 0.3393)\n",
            "Recall: 0.2195 (std: 0.1525)\n",
            "\n",
            "\n",
            "Evaluation metrics for Decision Tree:\n",
            "AUC: 0.6146 (std: 0.0693)\n",
            "Accuracy: 0.6235 (std: 0.0753)\n",
            "F1 Score: 0.5433 (std: 0.1055)\n",
            "Precision: 0.5104 (std: 0.1199)\n",
            "Recall: 0.5118 (std: 0.1142)\n",
            "\n",
            "\n",
            "Evaluation metrics for Random Forest:\n",
            "AUC: 0.7707 (std: 0.0788)\n",
            "Accuracy: 0.7412 (std: 0.0600)\n",
            "F1 Score: 0.6171 (std: 0.1074)\n",
            "Precision: 0.7143 (std: 0.1229)\n",
            "Recall: 0.5585 (std: 0.1900)\n",
            "\n",
            "\n",
            "Evaluation metrics for kNN:\n",
            "AUC: 0.6097 (std: 0.1224)\n",
            "Accuracy: 0.6412 (std: 0.0681)\n",
            "F1 Score: 0.3193 (std: 0.1763)\n",
            "Precision: 0.5413 (std: 0.3495)\n",
            "Recall: 0.2469 (std: 0.1453)\n",
            "\n",
            "\n"
          ]
        }
      ]
    },
    {
      "cell_type": "code",
      "source": [
        "## 5. Stack the models with top3 performance\n",
        "\n",
        "# Base models\n",
        "gradient_boosting = GradientBoostingClassifier(n_estimators=100, learning_rate=1.0, max_depth=1, random_state=0)\n",
        "svm = make_pipeline(StandardScaler(), SVC(random_state=0))\n",
        "random_forest = RandomForestClassifier(n_estimators=100, random_state=0)\n",
        "\n",
        "# Stacking classifier\n",
        "stacked_model = StackingClassifier(\n",
        "    estimators=[\n",
        "        ('gradient_boosting', gradient_boosting),\n",
        "        ('svm', svm),\n",
        "        ('random_forest', random_forest)\n",
        "    ],\n",
        "    final_estimator=LogisticRegression()\n",
        ")\n",
        "\n",
        "# Uncomment and replace X_train, y_train with your actual training data\n",
        "stacked_model.fit(X_train, Y_train)\n",
        "\n",
        "# Uncomment and replace X_test with your actual test data for predictions\n",
        "predictions = stacked_model.predict(X_test)\n",
        "\n",
        "# Predict probabilities for the test set\n",
        "y_proba = stacked_model.predict_proba(X_test)[:, 1]\n",
        "\n",
        "# Predict classes for the test set\n",
        "y_pred = stacked_model.predict(X_test)\n",
        "\n",
        "# Compute metrics\n",
        "auc = roc_auc_score(Y_test, y_proba)\n",
        "accuracy = accuracy_score(Y_test, y_pred)\n",
        "f1 = f1_score(Y_test, y_pred)\n",
        "precision = precision_score(Y_test, y_pred)\n",
        "recall = recall_score(Y_test, y_pred)\n",
        "\n",
        "# Collect the metrics\n",
        "metrics_stacked = {\n",
        "     'AUC': auc,\n",
        "     'Accuracy': accuracy,\n",
        "     'F1 Score': f1,\n",
        "     'Precision': precision,\n",
        "     'Recall': recall\n",
        " }\n",
        "print(metrics_stacked)"
      ],
      "metadata": {
        "id": "dDjBheVPgjXs",
        "outputId": "a2b72939-d4da-4e47-e593-bf9a4daca1b0",
        "colab": {
          "base_uri": "https://localhost:8080/"
        }
      },
      "execution_count": 8,
      "outputs": [
        {
          "output_type": "stream",
          "name": "stdout",
          "text": [
            "{'AUC': 0.8126984126984127, 'Accuracy': 0.7397260273972602, 'F1 Score': 0.5777777777777777, 'Precision': 0.7647058823529411, 'Recall': 0.4642857142857143}\n"
          ]
        }
      ]
    },
    {
      "cell_type": "code",
      "source": [
        "## 6. Pindown biomarkers with top feature importance\n",
        "predictors = X.columns.tolist()\n",
        "\n",
        "# Extract feature importances from base estimators\n",
        "gb_feature_importances = stacked_model.named_estimators_['gradient_boosting'].feature_importances_\n",
        "rf_feature_importances = stacked_model.named_estimators_['random_forest'].feature_importances_\n",
        "\n",
        "# Average feature importances across the base estimators\n",
        "avg_feature_importances = (gb_feature_importances + rf_feature_importances) / 2\n",
        "\n",
        "# Sort the feature importances in descending order and get the top 10\n",
        "top_indices = np.argsort(avg_feature_importances)[::-1][:10]\n",
        "top = [(predictors[i], avg_feature_importances[i]) for i in top_indices]\n",
        "\n",
        "# Display the top features and their importances\n",
        "for feature, importance in top:\n",
        "    print(f\"{feature}: {importance}\")\n"
      ],
      "metadata": {
        "id": "CkebUESqFL4x",
        "outputId": "accdc1c0-bd4c-4527-f264-949098accb75",
        "colab": {
          "base_uri": "https://localhost:8080/"
        }
      },
      "execution_count": 16,
      "outputs": [
        {
          "output_type": "stream",
          "name": "stdout",
          "text": [
            "mRNA_PSRC1|84722: 0.16786182986701073\n",
            "mRNA_TPX2|22974: 0.05760733865569538\n",
            "stage: 0.05708578005415763\n",
            "mRNA_NCOR1|9611: 0.037316728895259416\n",
            "mRNA_HK3|3101: 0.02725911232028246\n",
            "mRNA_PMPCA|23203: 0.025781179652827047\n",
            "mRNA_CYP26B1|56603: 0.02566115735037458\n",
            "mRNA_CITED2|10370: 0.02443062193144756\n",
            "miRNA_hsa-mir-335: 0.016659761568937028\n",
            "mRNA_FAM177B|400823: 0.013477700423530253\n"
          ]
        }
      ]
    }
  ],
  "metadata": {
    "language_info": {
      "name": "python"
    },
    "colab": {
      "provenance": [],
      "include_colab_link": true
    },
    "kernelspec": {
      "name": "python3",
      "display_name": "Python 3"
    }
  },
  "nbformat": 4,
  "nbformat_minor": 0
}